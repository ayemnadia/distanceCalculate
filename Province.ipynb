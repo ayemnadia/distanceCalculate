{
 "cells": [
  {
   "cell_type": "code",
   "execution_count": 1,
   "id": "a7ec07af-114e-45c9-b4ba-e60d615a0204",
   "metadata": {},
   "outputs": [],
   "source": [
    "# LOAD DATA\n",
    "\n",
    "import pandas as pd\n",
    "df = pd.read_csv('lat_long_provinsi.csv', index_col=0)\n",
    "\n",
    "\n",
    "# DISTANCE CALCULATING FUNCTION\n",
    "\n",
    "import haversine as hs\n",
    "from haversine import Unit\n",
    "\n",
    "def jarak(x, y):\n",
    "    loc1 = (df.lat.iloc[x], df.long.iloc[x])\n",
    "    loc2 = (df.lat.iloc[y], df.long.iloc[y])\n",
    "    result = hs.haversine(loc1, loc2, unit=Unit.KILOMETERS)\n",
    "    return result\n",
    "\n",
    "\n",
    "# EXECUTION RESULT\n",
    "\n",
    "df_list = []\n",
    "\n",
    "for a in range (len(df)):\n",
    "    for i in range (len(df)):\n",
    "        temp_df = pd.DataFrame({'id_x' : [df.id[a]], 'provinsi_x' : [df.name[a]], 'lat_x': [df.lat[a]], 'long_x': [df.long[a]],\n",
    "                                'id_y' : [df.id[i]], 'provinsi_y' : [df.name[i]], 'lat_y': [df.lat[i]], 'long_y': [df.long[i]],\n",
    "                                'jarak': [jarak(a,i)]})\n",
    "        df_list.append(temp_df)\n",
    "\n",
    "\n",
    "hasil = pd.concat(df_list, ignore_index=True)\n",
    "hasil.to_csv('provinces.csv')"
   ]
  },
  {
   "cell_type": "code",
   "execution_count": null,
   "id": "8f442f9b-f52a-4b1d-b059-b75e8c169a79",
   "metadata": {},
   "outputs": [],
   "source": []
  }
 ],
 "metadata": {
  "kernelspec": {
   "display_name": "Python 3 (ipykernel)",
   "language": "python",
   "name": "python3"
  },
  "language_info": {
   "codemirror_mode": {
    "name": "ipython",
    "version": 3
   },
   "file_extension": ".py",
   "mimetype": "text/x-python",
   "name": "python",
   "nbconvert_exporter": "python",
   "pygments_lexer": "ipython3",
   "version": "3.13.5"
  }
 },
 "nbformat": 4,
 "nbformat_minor": 5
}
