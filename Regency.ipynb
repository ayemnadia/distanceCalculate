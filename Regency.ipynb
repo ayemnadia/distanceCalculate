{
 "cells": [
  {
   "cell_type": "code",
   "execution_count": 1,
   "id": "d64f39e3-286d-4911-a594-314b376a9b57",
   "metadata": {},
   "outputs": [],
   "source": [
    "# LOAD DATA\n",
    "\n",
    "import pandas as pd\n",
    "df = pd.read_csv(\"lat_long_kota_kab.csv\", index_col=0)\n",
    "\n",
    "\n",
    "# DISTANCE CALCULATING FUNCTION\n",
    "\n",
    "import haversine as hs\n",
    "from haversine import Unit\n",
    "\n",
    "def jarak(x, y):\n",
    "    loc1 = (df.lat.iloc[x], df.long.iloc[x])\n",
    "    loc2 = (df.lat.iloc[y], df.long.iloc[y])\n",
    "    result = hs.haversine(loc1, loc2, unit=Unit.KILOMETERS)\n",
    "    return result\n",
    "\n",
    "\n",
    "# EXECUTION RESULT\n",
    "\n",
    "df_list = []\n",
    "\n",
    "for a in range (514):\n",
    "    for i in range(514):\n",
    "        temp_df = pd.DataFrame({'id_x': [df.id[a]],\n",
    "                                'foreign_x': [df.foreign[a]],\n",
    "                                'name_x': [df.name[a]],\n",
    "                                'lat_x': [df.lat[a]],\n",
    "                                'long_x': [df.long[a]],\n",
    "                                'id_y': [df.id[i]],\n",
    "                                'foreign_y': [df.foreign[i]],\n",
    "                                'name_y': [df.name[i]],\n",
    "                                'lat_y': [df.lat[i]],\n",
    "                                'long_y': [df.long[i]],\n",
    "                                'jarak': [jarak(a,i)]})\n",
    "        df_list.append(temp_df)\n",
    "\n",
    "# Concatenate all DataFrames in the list\n",
    "final_df = pd.concat(df_list, ignore_index=True)\n",
    "\n",
    "final_df.to_csv('regency.csv')"
   ]
  },
  {
   "cell_type": "code",
   "execution_count": null,
   "id": "78a93855-3dd1-4a48-9795-96f574d8b925",
   "metadata": {},
   "outputs": [],
   "source": []
  }
 ],
 "metadata": {
  "kernelspec": {
   "display_name": "Python 3 (ipykernel)",
   "language": "python",
   "name": "python3"
  },
  "language_info": {
   "codemirror_mode": {
    "name": "ipython",
    "version": 3
   },
   "file_extension": ".py",
   "mimetype": "text/x-python",
   "name": "python",
   "nbconvert_exporter": "python",
   "pygments_lexer": "ipython3",
   "version": "3.13.5"
  }
 },
 "nbformat": 4,
 "nbformat_minor": 5
}
